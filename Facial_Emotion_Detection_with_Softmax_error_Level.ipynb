{
  "nbformat": 4,
  "nbformat_minor": 0,
  "metadata": {
    "colab": {
      "provenance": []
    },
    "kernelspec": {
      "name": "python3",
      "display_name": "Python 3"
    },
    "language_info": {
      "name": "python"
    }
  },
  "cells": [
    {
      "cell_type": "code",
      "execution_count": null,
      "metadata": {
        "id": "IUkpkD0t_FcI"
      },
      "outputs": [],
      "source": [
        "from keras.models import Sequential\n",
        "from keras.layers import Dense, Dropout, Flatten\n",
        "from keras.layers import Conv2D\n",
        "from keras.layers import MaxPooling2D\n",
        "from keras.optimizers import Adam\n",
        "from keras.preprocessing.image import ImageDataGenerator"
      ]
    },
    {
      "cell_type": "code",
      "source": [
        "train_dir = 'data/train'\n",
        "val_dir = 'data/test'"
      ],
      "metadata": {
        "id": "uV4ABpEq_JqU"
      },
      "execution_count": null,
      "outputs": []
    },
    {
      "cell_type": "code",
      "source": [
        "train_datagen = ImageDataGenerator(rescale=1./255)\n",
        "val_datagen = ImageDataGenerator(rescale=1./255)"
      ],
      "metadata": {
        "id": "l40NHJUv_ZoQ"
      },
      "execution_count": null,
      "outputs": []
    },
    {
      "cell_type": "code",
      "source": [
        "train_generator = train_datagen.flow_from_directory(\n",
        "    train_dir,\n",
        "    target_size = (48,48),\n",
        "    batch_size = 64,\n",
        "    color_mode = \"grayscale\",\n",
        "    class_mode = 'categorical'\n",
        ")\n"
      ],
      "metadata": {
        "id": "hca5lGD9_a2y"
      },
      "execution_count": null,
      "outputs": []
    },
    {
      "cell_type": "code",
      "source": [
        "val_generator = val_datagen.flow_from_directory(\n",
        "    val_dir,\n",
        "    target_size = (48,48),\n",
        "    batch_size = 64,\n",
        "    color_mode = \"grayscale\",\n",
        "    class_mode = 'categorical'\n",
        ")"
      ],
      "metadata": {
        "id": "-ol_rw0k_b9F"
      },
      "execution_count": null,
      "outputs": []
    },
    {
      "cell_type": "code",
      "source": [
        "\n",
        "emotion_model = Sequential()\n",
        "\n",
        "emotion_model.add(Conv2D(32, kernel_size=(3,3), activation='relu', input_shape = (48,48,1)))\n",
        "emotion_model.add(Conv2D(64, kernel_size=(3,3), activation='relu'))\n",
        "emotion_model.add(MaxPooling2D(pool_size=(2,2)))\n",
        "emotion_model.add(Dropout(0.25))\n",
        "\n",
        "emotion_model.add(Conv2D(128, kernel_size=(3,3), activation='relu'))\n",
        "emotion_model.add(MaxPooling2D(pool_size=(2,2)))\n",
        "emotion_model.add(Conv2D(128, kernel_size=(3,3), activation='relu'))\n",
        "emotion_model.add(MaxPooling2D(pool_size=(2,2)))\n",
        "emotion_model.add(Dropout(0.25))\n",
        "\n",
        "emotion_model.add(Flatten())\n",
        "emotion_model.add(Dense(1024, activation='relu'))\n",
        "emotion_model.add(Dropout(0.5))\n",
        "emotion_model.add(Dense(7, activation='softmax'))\n",
        "\n",
        "emotion_model.compile(loss='categorical_crossentropy',optimizer=Adam(lr=0.0001, decay=1e-6),metrics=['accuracy'])\n"
      ],
      "metadata": {
        "id": "O52yIFKl_fdA"
      },
      "execution_count": null,
      "outputs": []
    },
    {
      "cell_type": "code",
      "source": [
        "emotion_model_info = emotion_model.fit_generator(\n",
        "    train_generator,\n",
        "    steps_per_epoch = 28709 // 64,\n",
        "    epochs=75,\n",
        "    validation_data = val_generator,\n",
        "    validation_steps = 7178 // 64\n",
        ")"
      ],
      "metadata": {
        "id": "yB7eEp4g_gxU"
      },
      "execution_count": null,
      "outputs": []
    }
  ]
}